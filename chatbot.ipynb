{
 "cells": [
  {
   "cell_type": "code",
   "execution_count": null,
   "metadata": {},
   "outputs": [],
   "source": []
  }
 ],
 "metadata": {
  "kernelspec": {
   "display_name": "Python 3.8.9 ('spacy-playground-ryJT1RjE-py3.8')",
   "language": "python",
   "name": "python3"
  },
  "language_info": {
   "name": "python",
   "version": "3.8.9"
  },
  "orig_nbformat": 4,
  "vscode": {
   "interpreter": {
    "hash": "a4434e2ba1daebafdcabfb501e6f3d6a8b998897a2d1216c6d39e2c67fdd5315"
   }
  }
 },
 "nbformat": 4,
 "nbformat_minor": 2
}
