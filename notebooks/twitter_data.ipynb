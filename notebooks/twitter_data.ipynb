{
 "cells": [
  {
   "cell_type": "markdown",
   "metadata": {},
   "source": [
    "# Twitter Data analysis"
   ]
  },
  {
   "cell_type": "code",
   "execution_count": 75,
   "metadata": {},
   "outputs": [
    {
     "name": "stdout",
     "output_type": "stream",
     "text": [
      "The autoreload extension is already loaded. To reload it, use:\n",
      "  %reload_ext autoreload\n",
      "The dotenv extension is already loaded. To reload it, use:\n",
      "  %reload_ext dotenv\n"
     ]
    }
   ],
   "source": [
    "%load_ext autoreload\n",
    "%autoreload 2\n",
    "%load_ext dotenv\n",
    "%dotenv\n",
    "\n",
    "import time\n",
    "import tweepy\n",
    "import os\n",
    "import pandas as pd\n",
    "import sys\n",
    "import modules\n",
    "from IPython.display import display"
   ]
  },
  {
   "cell_type": "markdown",
   "metadata": {},
   "source": [
    "## API Setup"
   ]
  },
  {
   "cell_type": "code",
   "execution_count": 76,
   "metadata": {},
   "outputs": [],
   "source": [
    "auth = tweepy.OAuth2BearerHandler(os.environ[\"BEARER_TOKEN\"])\n",
    "client = tweepy.Client(bearer_token=os.environ[\"BEARER_TOKEN\"])"
   ]
  },
  {
   "cell_type": "markdown",
   "metadata": {},
   "source": [
    "## Data fetching"
   ]
  },
  {
   "cell_type": "code",
   "execution_count": 72,
   "metadata": {},
   "outputs": [],
   "source": [
    "next_token = None\n",
    "data = []\n",
    "for i in range(5):\n",
    "    results = client.search_recent_tweets(\n",
    "        query=\"bitcoin lang:en -is:retweet is:verified -@coinbureau -plattform -follow -helpful -#shiba -#doge -#dogecoin\", \n",
    "        tweet_fields=[\"created_at\", \"public_metrics\", \"entities\", \"source\"],\n",
    "        expansions=\"author_id\",\n",
    "        user_fields=\"description\",\n",
    "        max_results=100,\n",
    "        next_token=next_token)\n",
    "\n",
    "    data += results.data\n",
    "    if 'next_token' in results.meta: \n",
    "        next_token = results.meta['next_token']\n",
    "        time.sleep(0.1)\n",
    "    else: \n",
    "        break"
   ]
  },
  {
   "cell_type": "code",
   "execution_count": 73,
   "metadata": {},
   "outputs": [
    {
     "data": {
      "text/plain": [
       "(499, 7)"
      ]
     },
     "execution_count": 73,
     "metadata": {},
     "output_type": "execute_result"
    }
   ],
   "source": [
    "df = pd.DataFrame(data)\n",
    "df.shape"
   ]
  },
  {
   "cell_type": "code",
   "execution_count": 74,
   "metadata": {},
   "outputs": [
    {
     "name": "stdout",
     "output_type": "stream",
     "text": [
      "The true value of the crypto market isn’t the trillions its believers suggest, but it’s nothing to sneer at, either https://t.co/bPMsxTk69Q\n",
      "\n",
      "-----------------------------\n",
      "I've used Plex long before #Bitcoin launched. Plex is fantastic. I've used Sonarr &amp; Radarr for many years too. These are great applications. It's great to have more tech choices for the sovereign individual. https://t.co/FII8b5DT2D\n",
      "\n",
      "-----------------------------\n",
      "Do we call this the start of a new extension lower? \n",
      "\n",
      "#bitcoin #btcusd #Crypto #Cryptocurency https://t.co/zHWN3FwBnX\n",
      "\n",
      "-----------------------------\n",
      "UPDATE: Nigeria to Establish Special Economic Zone For #Bitcoin, #Crypto\n",
      "\n",
      "https://t.co/Gnc0n9lX8w\n",
      "#News Cryptocurrency\n",
      "\n",
      "-----------------------------\n",
      "Crypto market sinks below US$1 trillion, Bitcoin nears 2022 low #FMTNews https://t.co/9p0o4rMjBO\n",
      "\n",
      "-----------------------------\n",
      "#bitcoin, the mood today... https://t.co/NSPY9mbsXr\n",
      "\n",
      "-----------------------------\n",
      "#Bitcoin trades below $19,000, with global market cap plummeting below $1 trillion https://t.co/AWIh9PxtV9\n",
      "\n",
      "-----------------------------\n",
      "Poolin maintains that all user assets are safe, and that its net worth is still positive.\n",
      "https://t.co/BAdsLaBpq2\n",
      "\n",
      "-----------------------------\n",
      "It seems @saylor hasn’t even done the basic math.  #BTC is not capable of giving property rights to eight billion people in his life time due to 1MB blocks.\n",
      "That is https://t.co/K8GOsZM66j is the original Bitcoin that works for everyone. https://t.co/OW0zniLYKL\n",
      "\n",
      "-----------------------------\n",
      "Beijing-based Poolin, one of the largest provider of services to Bitcoin miners, suspended all withdrawals as it faces a liquidity crunch https://t.co/P9phLel9V4\n",
      "\n",
      "-----------------------------\n",
      "I love buying cheap #Bitcoin!\n",
      "\n",
      "-----------------------------\n",
      "PRESS THE ❤️ FOR AN EMERGENCY #BITCOIN UPDATE!\n",
      "\n",
      "-----------------------------\n",
      "Top Bitcoin Mining Pool Freezes Withdrawals Due to Liquidity Issues \n",
      "► https://t.co/gyMGY09s19 https://t.co/LS3sj1jow5\n",
      "\n",
      "-----------------------------\n",
      "Bitcoin is trading like any other emerging market - UST yields up, BTC smashed\n",
      "https://t.co/gpQkgXKVoA\n",
      "\n",
      "-----------------------------\n",
      "#BITCOIN BACK IN THE $18K'S\n",
      "\n",
      "current price: $18,921\n",
      "\n",
      "-----------------------------\n",
      "A year on, El Salvador's bitcoin experiment is stumbling https://t.co/jbltHIETkK https://t.co/UcjzdkwMRu\n",
      "\n",
      "-----------------------------\n",
      "The biggest cryptocurrency’s sell-off is intensifying amid broader market turmoil.\n",
      "https://t.co/sCLEP9oX84\n",
      "\n",
      "-----------------------------\n",
      "NEW #CRYPTO VIDEO NOW LIVE\n",
      "\n",
      "#ETHEREUM PRICE WARNING... ⛔ URGENT #BITCOIN MARKET ANALYSIS\n",
      "\n",
      "👇👇👇👇👇👇👇👇👇👇👇👇👇👇👇\n",
      "👉👉 https://t.co/1D5KK0UJbj 👈👈\n",
      "👆👆👆👆👆👆👆👆👆👆👆👆👆👆👆 https://t.co/M3wZzQVIJB\n",
      "\n",
      "-----------------------------\n",
      "After a cruel summer, crypto fans might be in for an unforgiving September, too, with Bitcoin finishing lower during the month the past five years https://t.co/sPVX3atBEl\n",
      "\n",
      "-----------------------------\n",
      "Bitcoin price falls below $19k for first time since July https://t.co/9gNfkzsp0b https://t.co/3fPaWpxLJf\n",
      "\n",
      "-----------------------------\n",
      "Are you worried about this #Bitcoin dip?\n",
      "\n",
      "Yes!                                No!\n",
      "👇                                  👇\n",
      "\n",
      "-----------------------------\n",
      "Bitcoin may have lost its buzz as the dominant cryptocurrency has been stuck at around $20,000 for days. Here are the top crypto stories of the week https://t.co/DEKYxSEwF2 https://t.co/pZlJ0AmDkT\n",
      "\n",
      "-----------------------------\n",
      "BITCOIN CRASH TO $15K?! | ALTCOINS TO DCA FOR BIG RETURNS! (URGENT!) https://t.co/So5EJBfUp2 via @YouTube\n",
      "\n",
      "-----------------------------\n",
      "#Bitcoin now below $19,000\n",
      "\n",
      "Hold your Schadenfreude please\n",
      "\n",
      "-----------------------------\n",
      "Buy #Bitcoin during bear markets and they will call you lucky during bull markets.\n",
      "\n",
      "-----------------------------\n",
      "It's true. #Stackchain is flying by so damn fast right now. You'd think #bitcoin were on sale...BECAUSE IT IS! https://t.co/ijgCMZRL9p\n",
      "\n",
      "-----------------------------\n",
      "#bitcoin \n",
      "\n",
      "Despite the idea being right, we never got the clean retests to load up on shorts.\n",
      "\n",
      "However, the beauty of this is that despite $BTC not retesting these levels, other altcoins did and we took a few W's on them shorts instead. \n",
      "\n",
      "Allow BTC to guide your altcoin trades 🤝 https://t.co/Xa1CH5Q8oI https://t.co/AsB2SSpPo6\n",
      "\n",
      "-----------------------------\n",
      "Self-custody is the cure for FUD.\n",
      "\n",
      "#Bitcoin\n",
      "\n",
      "-----------------------------\n",
      "INANSE seeing people tweet, \"3k bitcoin is likely\". 🤦\n",
      "\n",
      "-----------------------------\n",
      "@TheCryptoLark Now you see real crypto community. Bunch of fucking losers 🤣 fuckem all . Hey everyone, fuck you and guess what bitcoin is going to $9-12k your all fucked 😅\n",
      "\n",
      "-----------------------------\n"
     ]
    }
   ],
   "source": [
    "for i, row in df.sample(30).iterrows():\n",
    "    print(row[\"text\"])\n",
    "    print(\"\\n-----------------------------\")"
   ]
  },
  {
   "cell_type": "markdown",
   "metadata": {},
   "source": [
    "### Save data"
   ]
  },
  {
   "cell_type": "code",
   "execution_count": null,
   "metadata": {},
   "outputs": [],
   "source": [
    "df.to_feather(\"bitcoin_tweets\")"
   ]
  },
  {
   "cell_type": "markdown",
   "metadata": {},
   "source": [
    "### Load data"
   ]
  },
  {
   "cell_type": "code",
   "execution_count": 3,
   "metadata": {},
   "outputs": [],
   "source": [
    "df = pd.read_feather(\"bitcoin_tweets\")"
   ]
  },
  {
   "cell_type": "code",
   "execution_count": 4,
   "metadata": {},
   "outputs": [
    {
     "data": {
      "text/html": [
       "<div>\n",
       "<style scoped>\n",
       "    .dataframe tbody tr th:only-of-type {\n",
       "        vertical-align: middle;\n",
       "    }\n",
       "\n",
       "    .dataframe tbody tr th {\n",
       "        vertical-align: top;\n",
       "    }\n",
       "\n",
       "    .dataframe thead th {\n",
       "        text-align: right;\n",
       "    }\n",
       "</style>\n",
       "<table border=\"1\" class=\"dataframe\">\n",
       "  <thead>\n",
       "    <tr style=\"text-align: right;\">\n",
       "      <th></th>\n",
       "      <th>author_id</th>\n",
       "      <th>created_at</th>\n",
       "      <th>entities</th>\n",
       "      <th>id</th>\n",
       "      <th>public_metrics</th>\n",
       "      <th>source</th>\n",
       "      <th>text</th>\n",
       "    </tr>\n",
       "  </thead>\n",
       "  <tbody>\n",
       "    <tr>\n",
       "      <th>0</th>\n",
       "      <td>48468639</td>\n",
       "      <td>2022-09-06 10:19:53+00:00</td>\n",
       "      <td>{'annotations': None, 'cashtags': None, 'hasht...</td>\n",
       "      <td>1567095233472520192</td>\n",
       "      <td>{'like_count': 0, 'quote_count': 0, 'reply_cou...</td>\n",
       "      <td>Twitter for iPhone</td>\n",
       "      <td>@Bitcoin_ator Where is this beautiful beach?</td>\n",
       "    </tr>\n",
       "    <tr>\n",
       "      <th>1</th>\n",
       "      <td>1059769354030592008</td>\n",
       "      <td>2022-09-06 10:19:52+00:00</td>\n",
       "      <td>{'annotations': None, 'cashtags': None, 'hasht...</td>\n",
       "      <td>1567095229106241536</td>\n",
       "      <td>{'like_count': 0, 'quote_count': 0, 'reply_cou...</td>\n",
       "      <td>Hootsuite Inc.</td>\n",
       "      <td>Have you ever wanted to play a slot built into...</td>\n",
       "    </tr>\n",
       "    <tr>\n",
       "      <th>2</th>\n",
       "      <td>1550142848963682306</td>\n",
       "      <td>2022-09-06 10:19:51+00:00</td>\n",
       "      <td>{'annotations': None, 'cashtags': None, 'hasht...</td>\n",
       "      <td>1567095225603997697</td>\n",
       "      <td>{'like_count': 0, 'quote_count': 0, 'reply_cou...</td>\n",
       "      <td>Twitter for Android</td>\n",
       "      <td>@NatureGlitch @coinbureau I never taught I cou...</td>\n",
       "    </tr>\n",
       "    <tr>\n",
       "      <th>3</th>\n",
       "      <td>1368565107870031873</td>\n",
       "      <td>2022-09-06 10:19:51+00:00</td>\n",
       "      <td>{'annotations': None, 'cashtags': None, 'hasht...</td>\n",
       "      <td>1567095224341610497</td>\n",
       "      <td>{'like_count': 0, 'quote_count': 0, 'reply_cou...</td>\n",
       "      <td>Twitter for Android</td>\n",
       "      <td>@BusinessLiveSA Being the head of the home isn...</td>\n",
       "    </tr>\n",
       "    <tr>\n",
       "      <th>4</th>\n",
       "      <td>1489204459683123203</td>\n",
       "      <td>2022-09-06 10:19:50+00:00</td>\n",
       "      <td>{'annotations': [{'end': 8, 'normalized_text':...</td>\n",
       "      <td>1567095220688375810</td>\n",
       "      <td>{'like_count': 0, 'quote_count': 0, 'reply_cou...</td>\n",
       "      <td>IFTTT</td>\n",
       "      <td>BlackRock to team up with Kraken’s crypto inde...</td>\n",
       "    </tr>\n",
       "  </tbody>\n",
       "</table>\n",
       "</div>"
      ],
      "text/plain": [
       "             author_id                created_at  \\\n",
       "0             48468639 2022-09-06 10:19:53+00:00   \n",
       "1  1059769354030592008 2022-09-06 10:19:52+00:00   \n",
       "2  1550142848963682306 2022-09-06 10:19:51+00:00   \n",
       "3  1368565107870031873 2022-09-06 10:19:51+00:00   \n",
       "4  1489204459683123203 2022-09-06 10:19:50+00:00   \n",
       "\n",
       "                                            entities                   id  \\\n",
       "0  {'annotations': None, 'cashtags': None, 'hasht...  1567095233472520192   \n",
       "1  {'annotations': None, 'cashtags': None, 'hasht...  1567095229106241536   \n",
       "2  {'annotations': None, 'cashtags': None, 'hasht...  1567095225603997697   \n",
       "3  {'annotations': None, 'cashtags': None, 'hasht...  1567095224341610497   \n",
       "4  {'annotations': [{'end': 8, 'normalized_text':...  1567095220688375810   \n",
       "\n",
       "                                      public_metrics               source  \\\n",
       "0  {'like_count': 0, 'quote_count': 0, 'reply_cou...   Twitter for iPhone   \n",
       "1  {'like_count': 0, 'quote_count': 0, 'reply_cou...       Hootsuite Inc.   \n",
       "2  {'like_count': 0, 'quote_count': 0, 'reply_cou...  Twitter for Android   \n",
       "3  {'like_count': 0, 'quote_count': 0, 'reply_cou...  Twitter for Android   \n",
       "4  {'like_count': 0, 'quote_count': 0, 'reply_cou...                IFTTT   \n",
       "\n",
       "                                                text  \n",
       "0       @Bitcoin_ator Where is this beautiful beach?  \n",
       "1  Have you ever wanted to play a slot built into...  \n",
       "2  @NatureGlitch @coinbureau I never taught I cou...  \n",
       "3  @BusinessLiveSA Being the head of the home isn...  \n",
       "4  BlackRock to team up with Kraken’s crypto inde...  "
      ]
     },
     "execution_count": 4,
     "metadata": {},
     "output_type": "execute_result"
    }
   ],
   "source": [
    "df.head()"
   ]
  },
  {
   "cell_type": "markdown",
   "metadata": {},
   "source": [
    "## Data description"
   ]
  },
  {
   "cell_type": "code",
   "execution_count": 5,
   "metadata": {},
   "outputs": [
    {
     "data": {
      "text/plain": [
       "(19981, 7)"
      ]
     },
     "execution_count": 5,
     "metadata": {},
     "output_type": "execute_result"
    }
   ],
   "source": [
    "df.shape"
   ]
  },
  {
   "cell_type": "markdown",
   "metadata": {},
   "source": [
    "Create new columns in the same data frame"
   ]
  },
  {
   "cell_type": "code",
   "execution_count": 18,
   "metadata": {},
   "outputs": [],
   "source": [
    "df[\"length\"] = df[\"text\"].str.len()\n",
    "df[\"word_count\"] = df[\"text\"].str.split().str.len()\n",
    "\n",
    "def print_distribution(s: pd.Series):\n",
    "    display(s.describe())\n",
    "    display(s.hist(bins=50))\n"
   ]
  },
  {
   "cell_type": "markdown",
   "metadata": {},
   "source": [
    "#### Tweet length distribution"
   ]
  },
  {
   "cell_type": "code",
   "execution_count": 20,
   "metadata": {},
   "outputs": [
    {
     "data": {
      "text/plain": [
       "count    19981.000000\n",
       "mean       195.159051\n",
       "std         81.084059\n",
       "min          7.000000\n",
       "25%        131.000000\n",
       "50%        200.000000\n",
       "75%        272.000000\n",
       "max        576.000000\n",
       "Name: length, dtype: float64"
      ]
     },
     "metadata": {},
     "output_type": "display_data"
    },
    {
     "data": {
      "text/plain": [
       "<AxesSubplot:>"
      ]
     },
     "metadata": {},
     "output_type": "display_data"
    },
    {
     "data": {
      "image/png": "[encoded data removed]",
      "text/plain": [
       "<Figure size 432x288 with 1 Axes>"
      ]
     },
     "metadata": {
      "needs_background": "light"
     },
     "output_type": "display_data"
    }
   ],
   "source": [
    "# total charcaters distribution\n",
    "print_distribution(df[\"length\"])"
   ]
  },
  {
   "cell_type": "code",
   "execution_count": 21,
   "metadata": {},
   "outputs": [
    {
     "data": {
      "text/plain": [
       "count    19981.000000\n",
       "mean        26.867474\n",
       "std         13.399620\n",
       "min          1.000000\n",
       "25%         16.000000\n",
       "50%         24.000000\n",
       "75%         38.000000\n",
       "max         73.000000\n",
       "Name: word_count, dtype: float64"
      ]
     },
     "metadata": {},
     "output_type": "display_data"
    },
    {
     "data": {
      "text/plain": [
       "<AxesSubplot:>"
      ]
     },
     "metadata": {},
     "output_type": "display_data"
    },
    {
     "data": {
      "image/png": "[encoded data removed]",
      "text/plain": [
       "<Figure size 432x288 with 1 Axes>"
      ]
     },
     "metadata": {
      "needs_background": "light"
     },
     "output_type": "display_data"
    }
   ],
   "source": [
    "# total words distribution\n",
    "print_distribution(df[\"word_count\"])"
   ]
  },
  {
   "cell_type": "markdown",
   "metadata": {},
   "source": [
    "## Text cleaning and preprocessing"
   ]
  },
  {
   "cell_type": "code",
   "execution_count": 40,
   "metadata": {},
   "outputs": [],
   "source": [
    "import nltk\n",
    "import seaborn as sns\n",
    "from modules.contractions import expand_contractions\n",
    "from nltk.corpus import stopwords\n",
    "from collections import  Counter\n",
    "# nltk.download('stopwords')\n"
   ]
  },
  {
   "cell_type": "code",
   "execution_count": 41,
   "metadata": {},
   "outputs": [],
   "source": [
    "# remove #hashtags from words to avoid duplicates in word dictionarys\n",
    "df[\"norm_text\"] = df[\"text\"].apply(expand_contractions)"
   ]
  },
  {
   "cell_type": "code",
   "execution_count": 42,
   "metadata": {},
   "outputs": [],
   "source": [
    "def plot_top_non_stopwords_barchart(text):\n",
    "    stop=set(stopwords.words('english'))\n",
    "    \n",
    "    new= text.str.lower().str.split()\n",
    "    new=new.values.tolist()\n",
    "    corpus=[word for i in new for word in i]\n",
    "\n",
    "    counter=Counter(corpus)\n",
    "    most=counter.most_common()\n",
    "    x, y=[], []\n",
    "    for word,count in most[:40]:\n",
    "        if (word not in stop):\n",
    "            x.append(word)\n",
    "            y.append(count)\n",
    "            \n",
    "    sns.barplot(x=y,y=x)"
   ]
  },
  {
   "cell_type": "code",
   "execution_count": 43,
   "metadata": {},
   "outputs": [
    {
     "data": {
      "image/png": "[encoded data removed]",
      "text/plain": [
       "<Figure size 432x288 with 1 Axes>"
      ]
     },
     "metadata": {
      "needs_background": "light"
     },
     "output_type": "display_data"
    }
   ],
   "source": [
    "plot_top_non_stopwords_barchart(df['norm_text'])"
   ]
  }
 ],
 "metadata": {
  "kernelspec": {
   "display_name": "Python 3.8.9 ('twitter-playground-GPfLl_oF-py3.8')",
   "language": "python",
   "name": "python3"
  },
  "language_info": {
   "codemirror_mode": {
    "name": "ipython",
    "version": 3
   },
   "file_extension": ".py",
   "mimetype": "text/x-python",
   "name": "python",
   "nbconvert_exporter": "python",
   "pygments_lexer": "ipython3",
   "version": "3.8.9"
  },
  "orig_nbformat": 4,
  "vscode": {
   "interpreter": {
    "hash": "60082e937db5700a4316841100ffa91f81fc95d760ddc4168612d68517b6434e"
   }
  }
 },
 "nbformat": 4,
 "nbformat_minor": 2
}
